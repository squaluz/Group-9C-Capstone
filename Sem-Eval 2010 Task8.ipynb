{
  "cells": [
    {
      "cell_type": "markdown",
      "metadata": {
        "id": "view-in-github",
        "colab_type": "text"
      },
      "source": [
        "<a href=\"https://colab.research.google.com/github/beatriceyapsm/Group-9C-Capstone-1/blob/main/Sem-Eval%202010%20Task8.ipynb\" target=\"_parent\"><img src=\"https://colab.research.google.com/assets/colab-badge.svg\" alt=\"Open In Colab\"/></a>"
      ]
    },
    {
      "cell_type": "markdown",
      "metadata": {
        "id": "zH9XHxIUfZoz"
      },
      "source": [
        "## Group 9C SGUS NUS Capstone Project 2022 \n",
        "### Improve Demand Forecasting through Natural Language Processing for Panasonic\n",
        "\n",
        "The objective of the project is to develop a technology to detect cause-effect relationship from news corpora using Lexicon based relation identification\n",
        "\n",
        "Methodology: \n",
        "1.   Data Preparation\n",
        "2.   Model Training\n",
        "3. Model Optimisation\n",
        "4. Model Evaluation\n"
      ]
    },
    {
      "cell_type": "markdown",
      "metadata": {
        "id": "LouM1Qu8fZo4"
      },
      "source": [
        "## Step 1: Data preparation\n",
        "\n",
        "#### Data set suggested by Panasonic for this exercise is from https://www.kaggle.com/datasets/drtoshi/semeval2010-task-8-dataset\n",
        "\n",
        "Data set comes with predefined labels e1 and e2, not limited to just cause-effect"
      ]
    },
    {
      "cell_type": "markdown",
      "metadata": {
        "id": "6faJ66RUfZo4"
      },
      "source": [
        "Python libraries used\n",
        "\n",
        "Panda - Data analysis manipulation library for Python\n",
        "\n",
        "Numpy - Mathematical operations over arrays"
      ]
    },
    {
      "cell_type": "code",
      "execution_count": null,
      "metadata": {
        "id": "BD5AQdxpfZo5"
      },
      "outputs": [],
      "source": [
        "\n",
        "\n",
        "import pandas as pd        #data analysis and manipulation library for Python\n",
        "import numpy as np         #mathematical operations over arrays\n",
        "\n",
        "#Global variables\n",
        "train_data = []            #sentence for training with labels \n",
        "train_target = []          #labels for training data\n",
        "test_data = []             #sentence for testing with labels  \n",
        "test_target = []           #labels for testing data"
      ]
    },
    {
      "cell_type": "markdown",
      "metadata": {
        "id": "bqkeBYJafZo6"
      },
      "source": [
        "#### Create data frames"
      ]
    },
    {
      "cell_type": "code",
      "execution_count": null,
      "metadata": {
        "id": "SN8fL2lUfZo7"
      },
      "outputs": [],
      "source": [
        "#Import files into a dataframe\n",
        "def import_text(file_txt):\n",
        "    \n",
        "    colnames=['ID', 'Text'] \n",
        "    \n",
        "    df = pd.read_csv(file_txt\n",
        "                       ,skip_blank_lines=True   #input files have emplty lines\n",
        "                       ,header=None             #no haeders\n",
        "                       ,sep='\\t'                #tab delimited\n",
        "                       ,engine='python'         #engine\n",
        "                       ,quotechar='^'           #if there are doublequotes in the text\n",
        "                       ,comment='Comment:'      #this is for human reader, we don't need\n",
        "                       ,names=colnames          #preset columns we need\n",
        "                      )\n",
        "    print(\"Number of rows: \", len(df.index))\n",
        "\n",
        "    return df"
      ]
    },
    {
      "cell_type": "code",
      "execution_count": null,
      "metadata": {
        "id": "BhAy3P2nfZo7"
      },
      "outputs": [],
      "source": [
        "#clean \"\"\n",
        "def clean_doublequotes(df):\n",
        "    return df.replace('\"', '', regex=True)"
      ]
    },
    {
      "cell_type": "code",
      "execution_count": null,
      "metadata": {
        "id": "3DutIS0WfZo8"
      },
      "outputs": [],
      "source": [
        "#clean tags e.g. (e2,e1) - to check why?\n",
        "def clean_tags(df_column,braket_type):\n",
        "    \n",
        "    if braket_type == 'angle':\n",
        "        pattern = r'<.*?>'\n",
        "    elif braket_type == 'round':\n",
        "        pattern = r'(\\(.*?\\))'\n",
        "    else:\n",
        "        raise Exception(\"angle or round\")\n",
        "    \n",
        "    return df_column.str.replace(pattern, '', regex=True)"
      ]
    },
    {
      "cell_type": "code",
      "execution_count": null,
      "metadata": {
        "id": "nUvdTWnpfZo8"
      },
      "outputs": [],
      "source": [
        "#create tuple of keys\n",
        "keys = ('Other','Cause-Effect','Product-Producer','Entity-Origin','Instrument-Agency','Component-Whole','Content-Container','Entity-Destination','Member-Collection','Message-Topic')\n",
        "#for i in range(len(keys)): print(i, keys[i])"
      ]
    },
    {
      "cell_type": "code",
      "execution_count": null,
      "metadata": {
        "id": "aPhAUC3sfZo9"
      },
      "outputs": [],
      "source": [
        "def prepare_file(file_name,use):\n",
        "    \n",
        "    #Import training file into a dataframe\n",
        "    df = import_text(file_name)\n",
        "\n",
        "    #clean \"\"\n",
        "    df = clean_doublequotes(df)\n",
        "\n",
        "    # combine rows 1&2\n",
        "    df['Clasification'] = df['ID'].shift(-1)\n",
        "\n",
        "    #remove leftover rows\n",
        "    df = df[df.Text.notna()]\n",
        "\n",
        "    #clean tags e.g. <e2> - better option would be to keep them and use for more precise prediction\n",
        "    df.Text = clean_tags(df.Text,braket_type='angle')\n",
        "\n",
        "    #clean tags e.g. (e2,e1) - better option would be to keep them and use for more precise prediction\n",
        "    df.Clasification = clean_tags(df.Clasification,braket_type='round')\n",
        "\n",
        "    #Map Keys to numbers\n",
        "    df['Clasification_ID'] = df.Clasification.map(lambda x: keys.index(x))\n",
        "\n",
        "    #to use in thes same file\n",
        "    if use == 'train':\n",
        "        global train_data\n",
        "        train_data = df.Text\n",
        "        \n",
        "        global train_target\n",
        "        train_target = df.Clasification_ID\n",
        "    elif use == 'test':\n",
        "        global test_data\n",
        "        test_data = df.Text\n",
        "        \n",
        "        global test_target\n",
        "        test_target = df.Clasification_ID\n",
        "\n",
        "    #check\n",
        "    print('Output rows:', len(df.index))\n",
        "  \n",
        "    return df"
      ]
    },
    {
      "cell_type": "markdown",
      "metadata": {
        "id": "phU_rFKmfZo-"
      },
      "source": [
        "#### Prepare Training file"
      ]
    },
    {
      "cell_type": "code",
      "source": [
        "from google.colab import drive\n",
        "drive.mount('/content/drive')"
      ],
      "metadata": {
        "id": "UZxmGdnAifwX",
        "outputId": "407cd016-f8df-4d55-9776-6e79a5335221",
        "colab": {
          "base_uri": "https://localhost:8080/"
        }
      },
      "execution_count": null,
      "outputs": [
        {
          "output_type": "stream",
          "name": "stdout",
          "text": [
            "Mounted at /content/drive\n"
          ]
        }
      ]
    },
    {
      "cell_type": "code",
      "source": [
        "%cd /content/drive/MyDrive/Github/Group-9C-Capstone"
      ],
      "metadata": {
        "id": "R4a-XXTOi3MU",
        "outputId": "1984125c-c1e1-4640-fd15-ba627564d1b3",
        "colab": {
          "base_uri": "https://localhost:8080/"
        }
      },
      "execution_count": null,
      "outputs": [
        {
          "output_type": "stream",
          "name": "stdout",
          "text": [
            "/content/drive/MyDrive/Github/Group-9C-Capstone\n"
          ]
        }
      ]
    },
    {
      "cell_type": "code",
      "execution_count": null,
      "metadata": {
        "id": "gfCrY1xafZo-",
        "outputId": "ba955384-bc4d-4d25-dc9a-8fcceff36ced",
        "colab": {
          "base_uri": "https://localhost:8080/"
        }
      },
      "outputs": [
        {
          "output_type": "stream",
          "name": "stdout",
          "text": [
            "Number of rows:  16000\n",
            "Output rows: 8000\n"
          ]
        },
        {
          "output_type": "execute_result",
          "data": {
            "text/plain": [
              "  ID                                               Text      Clasification  \\\n",
              "0  1  The system as described above has its greatest...    Component-Whole   \n",
              "2  2  The child was carefully wrapped and bound into...              Other   \n",
              "4  3  The author of a keygen uses a disassembler to ...  Instrument-Agency   \n",
              "6  4              A misty ridge uprises from the surge.              Other   \n",
              "8  5  The student association is the voice of the un...  Member-Collection   \n",
              "\n",
              "   Clasification_ID  \n",
              "0                 5  \n",
              "2                 0  \n",
              "4                 4  \n",
              "6                 0  \n",
              "8                 8  "
            ],
            "text/html": [
              "\n",
              "  <div id=\"df-e00bb101-01a6-43f0-982c-84068086d82d\">\n",
              "    <div class=\"colab-df-container\">\n",
              "      <div>\n",
              "<style scoped>\n",
              "    .dataframe tbody tr th:only-of-type {\n",
              "        vertical-align: middle;\n",
              "    }\n",
              "\n",
              "    .dataframe tbody tr th {\n",
              "        vertical-align: top;\n",
              "    }\n",
              "\n",
              "    .dataframe thead th {\n",
              "        text-align: right;\n",
              "    }\n",
              "</style>\n",
              "<table border=\"1\" class=\"dataframe\">\n",
              "  <thead>\n",
              "    <tr style=\"text-align: right;\">\n",
              "      <th></th>\n",
              "      <th>ID</th>\n",
              "      <th>Text</th>\n",
              "      <th>Clasification</th>\n",
              "      <th>Clasification_ID</th>\n",
              "    </tr>\n",
              "  </thead>\n",
              "  <tbody>\n",
              "    <tr>\n",
              "      <th>0</th>\n",
              "      <td>1</td>\n",
              "      <td>The system as described above has its greatest...</td>\n",
              "      <td>Component-Whole</td>\n",
              "      <td>5</td>\n",
              "    </tr>\n",
              "    <tr>\n",
              "      <th>2</th>\n",
              "      <td>2</td>\n",
              "      <td>The child was carefully wrapped and bound into...</td>\n",
              "      <td>Other</td>\n",
              "      <td>0</td>\n",
              "    </tr>\n",
              "    <tr>\n",
              "      <th>4</th>\n",
              "      <td>3</td>\n",
              "      <td>The author of a keygen uses a disassembler to ...</td>\n",
              "      <td>Instrument-Agency</td>\n",
              "      <td>4</td>\n",
              "    </tr>\n",
              "    <tr>\n",
              "      <th>6</th>\n",
              "      <td>4</td>\n",
              "      <td>A misty ridge uprises from the surge.</td>\n",
              "      <td>Other</td>\n",
              "      <td>0</td>\n",
              "    </tr>\n",
              "    <tr>\n",
              "      <th>8</th>\n",
              "      <td>5</td>\n",
              "      <td>The student association is the voice of the un...</td>\n",
              "      <td>Member-Collection</td>\n",
              "      <td>8</td>\n",
              "    </tr>\n",
              "  </tbody>\n",
              "</table>\n",
              "</div>\n",
              "      <button class=\"colab-df-convert\" onclick=\"convertToInteractive('df-e00bb101-01a6-43f0-982c-84068086d82d')\"\n",
              "              title=\"Convert this dataframe to an interactive table.\"\n",
              "              style=\"display:none;\">\n",
              "        \n",
              "  <svg xmlns=\"http://www.w3.org/2000/svg\" height=\"24px\"viewBox=\"0 0 24 24\"\n",
              "       width=\"24px\">\n",
              "    <path d=\"M0 0h24v24H0V0z\" fill=\"none\"/>\n",
              "    <path d=\"M18.56 5.44l.94 2.06.94-2.06 2.06-.94-2.06-.94-.94-2.06-.94 2.06-2.06.94zm-11 1L8.5 8.5l.94-2.06 2.06-.94-2.06-.94L8.5 2.5l-.94 2.06-2.06.94zm10 10l.94 2.06.94-2.06 2.06-.94-2.06-.94-.94-2.06-.94 2.06-2.06.94z\"/><path d=\"M17.41 7.96l-1.37-1.37c-.4-.4-.92-.59-1.43-.59-.52 0-1.04.2-1.43.59L10.3 9.45l-7.72 7.72c-.78.78-.78 2.05 0 2.83L4 21.41c.39.39.9.59 1.41.59.51 0 1.02-.2 1.41-.59l7.78-7.78 2.81-2.81c.8-.78.8-2.07 0-2.86zM5.41 20L4 18.59l7.72-7.72 1.47 1.35L5.41 20z\"/>\n",
              "  </svg>\n",
              "      </button>\n",
              "      \n",
              "  <style>\n",
              "    .colab-df-container {\n",
              "      display:flex;\n",
              "      flex-wrap:wrap;\n",
              "      gap: 12px;\n",
              "    }\n",
              "\n",
              "    .colab-df-convert {\n",
              "      background-color: #E8F0FE;\n",
              "      border: none;\n",
              "      border-radius: 50%;\n",
              "      cursor: pointer;\n",
              "      display: none;\n",
              "      fill: #1967D2;\n",
              "      height: 32px;\n",
              "      padding: 0 0 0 0;\n",
              "      width: 32px;\n",
              "    }\n",
              "\n",
              "    .colab-df-convert:hover {\n",
              "      background-color: #E2EBFA;\n",
              "      box-shadow: 0px 1px 2px rgba(60, 64, 67, 0.3), 0px 1px 3px 1px rgba(60, 64, 67, 0.15);\n",
              "      fill: #174EA6;\n",
              "    }\n",
              "\n",
              "    [theme=dark] .colab-df-convert {\n",
              "      background-color: #3B4455;\n",
              "      fill: #D2E3FC;\n",
              "    }\n",
              "\n",
              "    [theme=dark] .colab-df-convert:hover {\n",
              "      background-color: #434B5C;\n",
              "      box-shadow: 0px 1px 3px 1px rgba(0, 0, 0, 0.15);\n",
              "      filter: drop-shadow(0px 1px 2px rgba(0, 0, 0, 0.3));\n",
              "      fill: #FFFFFF;\n",
              "    }\n",
              "  </style>\n",
              "\n",
              "      <script>\n",
              "        const buttonEl =\n",
              "          document.querySelector('#df-e00bb101-01a6-43f0-982c-84068086d82d button.colab-df-convert');\n",
              "        buttonEl.style.display =\n",
              "          google.colab.kernel.accessAllowed ? 'block' : 'none';\n",
              "\n",
              "        async function convertToInteractive(key) {\n",
              "          const element = document.querySelector('#df-e00bb101-01a6-43f0-982c-84068086d82d');\n",
              "          const dataTable =\n",
              "            await google.colab.kernel.invokeFunction('convertToInteractive',\n",
              "                                                     [key], {});\n",
              "          if (!dataTable) return;\n",
              "\n",
              "          const docLinkHtml = 'Like what you see? Visit the ' +\n",
              "            '<a target=\"_blank\" href=https://colab.research.google.com/notebooks/data_table.ipynb>data table notebook</a>'\n",
              "            + ' to learn more about interactive tables.';\n",
              "          element.innerHTML = '';\n",
              "          dataTable['output_type'] = 'display_data';\n",
              "          await google.colab.output.renderOutput(dataTable, element);\n",
              "          const docLink = document.createElement('div');\n",
              "          docLink.innerHTML = docLinkHtml;\n",
              "          element.appendChild(docLink);\n",
              "        }\n",
              "      </script>\n",
              "    </div>\n",
              "  </div>\n",
              "  "
            ]
          },
          "metadata": {},
          "execution_count": 13
        }
      ],
      "source": [
        "#prepare file\n",
        "df_train = prepare_file('semeval2010task8_train.txt','train')\n",
        "\n",
        "df_train.head(5)"
      ]
    },
    {
      "cell_type": "code",
      "execution_count": null,
      "metadata": {
        "id": "jAKtE8LKfZo_",
        "outputId": "1ed38dc6-7a0e-4c06-dadd-3a6f004b2a4d",
        "colab": {
          "base_uri": "https://localhost:8080/"
        }
      },
      "outputs": [
        {
          "output_type": "stream",
          "name": "stdout",
          "text": [
            "Number of rows:  5434\n",
            "Output rows: 2717\n"
          ]
        },
        {
          "output_type": "execute_result",
          "data": {
            "text/plain": [
              "     ID                                               Text  \\\n",
              "0  8001  The most common audits were about waste and re...   \n",
              "2  8002             The company fabricates plastic chairs.   \n",
              "4  8003  The school master teaches the lesson with a st...   \n",
              "6  8004  The suspect dumped the dead body into a local ...   \n",
              "8  8005  Avian influenza is an infectious disease of bi...   \n",
              "\n",
              "        Clasification  Clasification_ID  \n",
              "0       Message-Topic                 9  \n",
              "2    Product-Producer                 2  \n",
              "4   Instrument-Agency                 4  \n",
              "6  Entity-Destination                 7  \n",
              "8        Cause-Effect                 1  "
            ],
            "text/html": [
              "\n",
              "  <div id=\"df-c2bc461e-c5bb-49b6-a68c-7d5395f4e53f\">\n",
              "    <div class=\"colab-df-container\">\n",
              "      <div>\n",
              "<style scoped>\n",
              "    .dataframe tbody tr th:only-of-type {\n",
              "        vertical-align: middle;\n",
              "    }\n",
              "\n",
              "    .dataframe tbody tr th {\n",
              "        vertical-align: top;\n",
              "    }\n",
              "\n",
              "    .dataframe thead th {\n",
              "        text-align: right;\n",
              "    }\n",
              "</style>\n",
              "<table border=\"1\" class=\"dataframe\">\n",
              "  <thead>\n",
              "    <tr style=\"text-align: right;\">\n",
              "      <th></th>\n",
              "      <th>ID</th>\n",
              "      <th>Text</th>\n",
              "      <th>Clasification</th>\n",
              "      <th>Clasification_ID</th>\n",
              "    </tr>\n",
              "  </thead>\n",
              "  <tbody>\n",
              "    <tr>\n",
              "      <th>0</th>\n",
              "      <td>8001</td>\n",
              "      <td>The most common audits were about waste and re...</td>\n",
              "      <td>Message-Topic</td>\n",
              "      <td>9</td>\n",
              "    </tr>\n",
              "    <tr>\n",
              "      <th>2</th>\n",
              "      <td>8002</td>\n",
              "      <td>The company fabricates plastic chairs.</td>\n",
              "      <td>Product-Producer</td>\n",
              "      <td>2</td>\n",
              "    </tr>\n",
              "    <tr>\n",
              "      <th>4</th>\n",
              "      <td>8003</td>\n",
              "      <td>The school master teaches the lesson with a st...</td>\n",
              "      <td>Instrument-Agency</td>\n",
              "      <td>4</td>\n",
              "    </tr>\n",
              "    <tr>\n",
              "      <th>6</th>\n",
              "      <td>8004</td>\n",
              "      <td>The suspect dumped the dead body into a local ...</td>\n",
              "      <td>Entity-Destination</td>\n",
              "      <td>7</td>\n",
              "    </tr>\n",
              "    <tr>\n",
              "      <th>8</th>\n",
              "      <td>8005</td>\n",
              "      <td>Avian influenza is an infectious disease of bi...</td>\n",
              "      <td>Cause-Effect</td>\n",
              "      <td>1</td>\n",
              "    </tr>\n",
              "  </tbody>\n",
              "</table>\n",
              "</div>\n",
              "      <button class=\"colab-df-convert\" onclick=\"convertToInteractive('df-c2bc461e-c5bb-49b6-a68c-7d5395f4e53f')\"\n",
              "              title=\"Convert this dataframe to an interactive table.\"\n",
              "              style=\"display:none;\">\n",
              "        \n",
              "  <svg xmlns=\"http://www.w3.org/2000/svg\" height=\"24px\"viewBox=\"0 0 24 24\"\n",
              "       width=\"24px\">\n",
              "    <path d=\"M0 0h24v24H0V0z\" fill=\"none\"/>\n",
              "    <path d=\"M18.56 5.44l.94 2.06.94-2.06 2.06-.94-2.06-.94-.94-2.06-.94 2.06-2.06.94zm-11 1L8.5 8.5l.94-2.06 2.06-.94-2.06-.94L8.5 2.5l-.94 2.06-2.06.94zm10 10l.94 2.06.94-2.06 2.06-.94-2.06-.94-.94-2.06-.94 2.06-2.06.94z\"/><path d=\"M17.41 7.96l-1.37-1.37c-.4-.4-.92-.59-1.43-.59-.52 0-1.04.2-1.43.59L10.3 9.45l-7.72 7.72c-.78.78-.78 2.05 0 2.83L4 21.41c.39.39.9.59 1.41.59.51 0 1.02-.2 1.41-.59l7.78-7.78 2.81-2.81c.8-.78.8-2.07 0-2.86zM5.41 20L4 18.59l7.72-7.72 1.47 1.35L5.41 20z\"/>\n",
              "  </svg>\n",
              "      </button>\n",
              "      \n",
              "  <style>\n",
              "    .colab-df-container {\n",
              "      display:flex;\n",
              "      flex-wrap:wrap;\n",
              "      gap: 12px;\n",
              "    }\n",
              "\n",
              "    .colab-df-convert {\n",
              "      background-color: #E8F0FE;\n",
              "      border: none;\n",
              "      border-radius: 50%;\n",
              "      cursor: pointer;\n",
              "      display: none;\n",
              "      fill: #1967D2;\n",
              "      height: 32px;\n",
              "      padding: 0 0 0 0;\n",
              "      width: 32px;\n",
              "    }\n",
              "\n",
              "    .colab-df-convert:hover {\n",
              "      background-color: #E2EBFA;\n",
              "      box-shadow: 0px 1px 2px rgba(60, 64, 67, 0.3), 0px 1px 3px 1px rgba(60, 64, 67, 0.15);\n",
              "      fill: #174EA6;\n",
              "    }\n",
              "\n",
              "    [theme=dark] .colab-df-convert {\n",
              "      background-color: #3B4455;\n",
              "      fill: #D2E3FC;\n",
              "    }\n",
              "\n",
              "    [theme=dark] .colab-df-convert:hover {\n",
              "      background-color: #434B5C;\n",
              "      box-shadow: 0px 1px 3px 1px rgba(0, 0, 0, 0.15);\n",
              "      filter: drop-shadow(0px 1px 2px rgba(0, 0, 0, 0.3));\n",
              "      fill: #FFFFFF;\n",
              "    }\n",
              "  </style>\n",
              "\n",
              "      <script>\n",
              "        const buttonEl =\n",
              "          document.querySelector('#df-c2bc461e-c5bb-49b6-a68c-7d5395f4e53f button.colab-df-convert');\n",
              "        buttonEl.style.display =\n",
              "          google.colab.kernel.accessAllowed ? 'block' : 'none';\n",
              "\n",
              "        async function convertToInteractive(key) {\n",
              "          const element = document.querySelector('#df-c2bc461e-c5bb-49b6-a68c-7d5395f4e53f');\n",
              "          const dataTable =\n",
              "            await google.colab.kernel.invokeFunction('convertToInteractive',\n",
              "                                                     [key], {});\n",
              "          if (!dataTable) return;\n",
              "\n",
              "          const docLinkHtml = 'Like what you see? Visit the ' +\n",
              "            '<a target=\"_blank\" href=https://colab.research.google.com/notebooks/data_table.ipynb>data table notebook</a>'\n",
              "            + ' to learn more about interactive tables.';\n",
              "          element.innerHTML = '';\n",
              "          dataTable['output_type'] = 'display_data';\n",
              "          await google.colab.output.renderOutput(dataTable, element);\n",
              "          const docLink = document.createElement('div');\n",
              "          docLink.innerHTML = docLinkHtml;\n",
              "          element.appendChild(docLink);\n",
              "        }\n",
              "      </script>\n",
              "    </div>\n",
              "  </div>\n",
              "  "
            ]
          },
          "metadata": {},
          "execution_count": 14
        }
      ],
      "source": [
        "df_test = prepare_file('semeval2010task8_test.txt','test')\n",
        "\n",
        "df_test.head(5)"
      ]
    },
    {
      "cell_type": "markdown",
      "source": [
        "##Step 2: Data Visualisation\n"
      ],
      "metadata": {
        "id": "u5qZNVaWb2pp"
      }
    },
    {
      "cell_type": "markdown",
      "source": [
        "To explore data and find out the frequency count of each classification for both Train and Test datasets. The shape of Test data is quite similar to that of the Train data. In the Training dataset, each classification ID has sufficient records for training (minimum being ID=4 with approximately 500 records)."
      ],
      "metadata": {
        "id": "Lyvp_-WtzhwY"
      }
    },
    {
      "cell_type": "markdown",
      "source": [
        "**Stratified Train-Test Splits**: \n",
        "Some classification problems do not have a balanced number of examples for each class label. As such, it is desirable to split the dataset into train and test sets in a way that preserves the same proportions of examples in each class as observed in the original dataset."
      ],
      "metadata": {
        "id": "trZLWS3I22PH"
      }
    },
    {
      "cell_type": "code",
      "source": [
        "import matplotlib.pyplot as plt                                #interactive plots "
      ],
      "metadata": {
        "id": "Vc43WrXFvUvL"
      },
      "execution_count": null,
      "outputs": []
    },
    {
      "cell_type": "code",
      "source": [
        "df_train.Clasification_ID.plot.hist(bins=10, title='Frequency Count of Clasification')"
      ],
      "metadata": {
        "colab": {
          "base_uri": "https://localhost:8080/",
          "height": 298
        },
        "id": "pz6WKCFRcinx",
        "outputId": "3430922d-4be1-4af6-c862-839f436350f1"
      },
      "execution_count": null,
      "outputs": [
        {
          "output_type": "execute_result",
          "data": {
            "text/plain": [
              "<matplotlib.axes._subplots.AxesSubplot at 0x7f150d0c1bd0>"
            ]
          },
          "metadata": {},
          "execution_count": 23
        },
        {
          "output_type": "display_data",
          "data": {
            "text/plain": [
              "<Figure size 432x288 with 1 Axes>"
            ],
            "image/png": "[encoded data removed]"
          },
          "metadata": {
            "needs_background": "light"
          }
        }
      ]
    },
    {
      "cell_type": "code",
      "source": [
        "df_test.Clasification_ID.plot.hist(bins=10, title='Frequency Count of Clasification')"
      ],
      "metadata": {
        "colab": {
          "base_uri": "https://localhost:8080/",
          "height": 298
        },
        "id": "YZTHcR3_zupB",
        "outputId": "0b6c33ea-9c19-4bdd-8f1e-b9d7543cdbc7"
      },
      "execution_count": null,
      "outputs": [
        {
          "output_type": "execute_result",
          "data": {
            "text/plain": [
              "<matplotlib.axes._subplots.AxesSubplot at 0x7f150d05d650>"
            ]
          },
          "metadata": {},
          "execution_count": 24
        },
        {
          "output_type": "display_data",
          "data": {
            "text/plain": [
              "<Figure size 432x288 with 1 Axes>"
            ],
            "image/png": "[encoded data removed]"
          },
          "metadata": {
            "needs_background": "light"
          }
        }
      ]
    },
    {
      "cell_type": "markdown",
      "source": [
        "##Step 3: Top n Words"
      ],
      "metadata": {
        "id": "9LurpJ4qsaAj"
      }
    },
    {
      "cell_type": "markdown",
      "source": [
        "Two Stop Word Lists are used. One is custom made and the other is from NLTK corpus to compare which Stop Word List performs better at removing redundant, common words that are not meaningful to the analysis."
      ],
      "metadata": {
        "id": "CFvFPtly3kin"
      }
    },
    {
      "cell_type": "code",
      "source": [
        "# Create own stop word list\n",
        "mystopwd_list = [\"a\", \"about\", \"after\", \"all\", \"also\", \"always\", \"am\", \"an\", \"and\", \"any\", \"are\", \"at\", \"be\", \"been\", \"being\", \"but\", \"by\", \"came\", \"can\", \"cant\", \"come\", \"could\", \"did\", \"didn't\", \"do\", \"does\", \"doesn't\", \"doing\", \"don't\", \"else\", \"for\", \"from\", \"get\", \"give\", \"goes\", \"going\", \"had\", \"happen\", \"has\", \"have\", \"having\", \"how\", \"i\", \"if\", \"ill\", \"i'm\", \"in\", \"into\", \"is\", \"isn't\", \"it\", \"its\", \"i've\", \"just\", \"keep\", \"let\", \"like\", \"made\", \"make\", \"many\", \"may\", \"me\", \"mean\", \"more\", \"most\", \"much\", \"no\", \"not\", \"now\", \"of\", \"only\", \"or\", \"our\", \"really\", \"say\", \"see\", \"some\", \"something\", \"take\", \"tell\", \"than\", \"that\", \"the\", \"their\", \"them\", \"then\", \"they\", \"thing\", \"this\", \"to\", \"try\", \"up\", \"us\", \"use\", \"used\", \"uses\", \"very\", \"want\", \"was\", \"way\", \"we\", \"what\", \"when\", \"where\", \"which\", \"who\", \"why\", \"will\", \"with\", \"without\", \"wont\", \"you\", \"your\", \"youre\"]\n",
        "mystopwd_list[:10]"
      ],
      "metadata": {
        "colab": {
          "base_uri": "https://localhost:8080/"
        },
        "id": "Op2GvFputCAa",
        "outputId": "6d758c5e-4862-403e-d1b9-7eba5568dcdb"
      },
      "execution_count": null,
      "outputs": [
        {
          "output_type": "execute_result",
          "data": {
            "text/plain": [
              "['a', 'about', 'after', 'all', 'also', 'always', 'am', 'an', 'and', 'any']"
            ]
          },
          "metadata": {},
          "execution_count": 18
        }
      ]
    },
    {
      "cell_type": "code",
      "source": [
        "import nltk\n",
        "#nltk.download('stopwords')                   uncomment to download if running for the first time\n",
        "from nltk.corpus import stopwords\n",
        "nltk_stopword = list(stopwords.words('english'))\n",
        "nltk_stopword[:10]"
      ],
      "metadata": {
        "colab": {
          "base_uri": "https://localhost:8080/"
        },
        "id": "TWWFD2TqtPca",
        "outputId": "4d9a408b-919b-4dfd-abc1-fa71edfb61b6"
      },
      "execution_count": null,
      "outputs": [
        {
          "output_type": "stream",
          "name": "stderr",
          "text": [
            "[nltk_data] Downloading package stopwords to /root/nltk_data...\n",
            "[nltk_data]   Package stopwords is already up-to-date!\n"
          ]
        },
        {
          "output_type": "execute_result",
          "data": {
            "text/plain": [
              "['i', 'me', 'my', 'myself', 'we', 'our', 'ours', 'ourselves', 'you', \"you're\"]"
            ]
          },
          "metadata": {},
          "execution_count": 68
        }
      ]
    },
    {
      "cell_type": "code",
      "source": [
        "from collections import Counter"
      ],
      "metadata": {
        "id": "3Bo0gzUnwMNL"
      },
      "execution_count": null,
      "outputs": []
    },
    {
      "cell_type": "code",
      "source": [
        "def top20wd(df, num, stopwords, n):\n",
        "  \n",
        "  # Split the Text column into words to a list\n",
        "  df_fText = df.loc[df.Clasification_ID==num]['Text'].str.split() \n",
        "\n",
        "  # Filter out stop words- either run mystopwd_list or nltk_stopword\n",
        "  df_fText = df_fText.apply(lambda x: [i for i in x if i.lower() not in stopwords])\n",
        "\n",
        "  word_list = df_fText.sum()\n",
        "\n",
        "  return Counter(word_list).most_common()[:n]"
      ],
      "metadata": {
        "id": "VgtNX2yruJrB"
      },
      "execution_count": null,
      "outputs": []
    },
    {
      "cell_type": "code",
      "source": [
        "top20wd(df_train, 0, nltk_stopword, 21)"
      ],
      "metadata": {
        "colab": {
          "base_uri": "https://localhost:8080/"
        },
        "id": "Wwi107lPwcay",
        "outputId": "4e295f7b-1b3f-4570-b1fd-213edea60d08"
      },
      "execution_count": null,
      "outputs": [
        {
          "output_type": "execute_result",
          "data": {
            "text/plain": [
              "[('made', 54),\n",
              " ('inside', 35),\n",
              " ('one', 33),\n",
              " ('also', 30),\n",
              " ('many', 30),\n",
              " ('new', 29),\n",
              " ('two', 29),\n",
              " ('used', 29),\n",
              " ('people', 28),\n",
              " ('great', 22),\n",
              " ('life', 19),\n",
              " ('years', 19),\n",
              " ('company', 19),\n",
              " ('part', 18),\n",
              " ('-', 18),\n",
              " ('first', 18),\n",
              " ('time', 17),\n",
              " ('using', 17),\n",
              " ('makes', 17),\n",
              " ('work', 16),\n",
              " ('public', 16)]"
            ]
          },
          "metadata": {},
          "execution_count": 29
        }
      ]
    },
    {
      "cell_type": "code",
      "source": [
        "top20wd(df_train, 1, nltk_stopword, 20)"
      ],
      "metadata": {
        "colab": {
          "base_uri": "https://localhost:8080/"
        },
        "id": "AFcnfyoywfUX",
        "outputId": "9583aaf5-c9e0-40e8-ede7-3eb792200a41"
      },
      "execution_count": null,
      "outputs": [
        {
          "output_type": "execute_result",
          "data": {
            "text/plain": [
              "[('caused', 402),\n",
              " ('cause', 76),\n",
              " ('causes', 44),\n",
              " ('one', 42),\n",
              " ('damage', 37),\n",
              " ('resulted', 30),\n",
              " ('triggered', 29),\n",
              " ('death', 24),\n",
              " ('fire', 24),\n",
              " ('earthquake', 24),\n",
              " ('people', 24),\n",
              " ('pain', 24),\n",
              " ('also', 23),\n",
              " ('produced', 23),\n",
              " ('generated', 20),\n",
              " ('comes', 20),\n",
              " ('stress', 19),\n",
              " ('headaches', 18),\n",
              " ('infection', 17),\n",
              " ('water', 16)]"
            ]
          },
          "metadata": {},
          "execution_count": 30
        }
      ]
    },
    {
      "cell_type": "code",
      "source": [
        "top20wd(df_train, 2, nltk_stopword, 21)"
      ],
      "metadata": {
        "colab": {
          "base_uri": "https://localhost:8080/"
        },
        "id": "Y4dojmZeGzdy",
        "outputId": "a32148f5-710d-4acf-9ae6-1154e4079cb6"
      },
      "execution_count": null,
      "outputs": [
        {
          "output_type": "execute_result",
          "data": {
            "text/plain": [
              "[('made', 58),\n",
              " ('first', 44),\n",
              " ('company', 41),\n",
              " ('produced', 37),\n",
              " ('created', 33),\n",
              " ('book', 29),\n",
              " ('new', 25),\n",
              " ('two', 25),\n",
              " ('one', 24),\n",
              " ('author', 23),\n",
              " ('also', 23),\n",
              " ('built', 19),\n",
              " ('completed', 18),\n",
              " ('written', 18),\n",
              " ('put', 17),\n",
              " ('-', 17),\n",
              " ('work', 16),\n",
              " ('statement', 16),\n",
              " ('many', 15),\n",
              " ('factory', 14),\n",
              " ('makes', 14)]"
            ]
          },
          "metadata": {},
          "execution_count": 31
        }
      ]
    },
    {
      "cell_type": "markdown",
      "metadata": {
        "id": "E2jg4ZDNfZo_"
      },
      "source": [
        "## Step 4: training models"
      ]
    },
    {
      "cell_type": "code",
      "execution_count": null,
      "metadata": {
        "id": "jkhhb0s7fZpA",
        "scrolled": true
      },
      "outputs": [],
      "source": [
        "# use the TF-IDF vectorizer and create a pipeline that attaches it to a multinomial naive Bayes classifier\n",
        "from sklearn.feature_extraction.text import TfidfVectorizer    #Convert a collection of raw documents to a matrix of TF-IDF features\n",
        "from sklearn.naive_bayes import MultinomialNB                  #multinomial Naive Bayes classifier is suitable for classification with discrete features\n",
        "from sklearn.pipeline import make_pipeline                     #Construct a Pipeline from the given estimators\n",
        "\n",
        "#show data\n",
        "import seaborn as sns; sns.set()                               #data visualization library based on matplotlib\n",
        "import matplotlib.pyplot as plt                                #interactive plots \n",
        "from sklearn.metrics import confusion_matrix                   #Compute confusion matrix to evaluate the accuracy of a classification"
      ]
    },
    {
      "cell_type": "markdown",
      "source": [
        "**TF-IDF: Term Frequency Inverse Document Frequency** | A numerical statistic that reflects how important a word is to a document in a collection or corpus\n",
        "\n",
        "We need to transform text into numbers, otherwise known as text vectorization, in order to carry out machine learning for natural language. \n",
        "\n",
        "*Tfidfvectorizer* aims to convert a collection of raw documents to a matrix of TF-IDF features. With *Tfidfvectorizer* you compute the word counts, idf and tf-idf values all at once. With *Tfidftransformer* you will compute word counts using *CountVectorizer* and then compute the Inverse Document Frequency (IDF) values and only then compute the Tf-idf scores.\n",
        "\n",
        "TF-IDF score can be fed to algorithms such as Naive Bayes and Support Vector Machines, greatly improving the results of more basic methods like word counts. \n",
        "\n",
        "[Reference 1](https://kavita-ganesan.com/tfidftransformer-tfidfvectorizer-usage-differences/#.YwzC9HZBw2w)\n",
        "[Reference 2](https://monkeylearn.com/blog/what-is-tf-idf/#:~:text=TF%2DIDF%20(term%20frequency%2D,across%20a%20set%20of%20documents)"
      ],
      "metadata": {
        "id": "Tan_J3Ah29nZ"
      }
    },
    {
      "cell_type": "markdown",
      "metadata": {
        "id": "Bq4oXwAZfZpA"
      },
      "source": [
        "### Train model 1: Multinomial Naive Bayes (standard parameters)"
      ]
    },
    {
      "cell_type": "code",
      "execution_count": null,
      "metadata": {
        "id": "vsfRjBmdfZpA"
      },
      "outputs": [],
      "source": [
        "model = make_pipeline(TfidfVectorizer(), MultinomialNB())"
      ]
    },
    {
      "cell_type": "code",
      "execution_count": null,
      "metadata": {
        "id": "kxVYYObhfZpA"
      },
      "outputs": [],
      "source": [
        "#TO READ: https://jakevdp.github.io/PythonDataScienceHandbook/05.04-feature-engineering.html"
      ]
    },
    {
      "cell_type": "code",
      "execution_count": null,
      "metadata": {
        "id": "VBCbp-affZpB",
        "scrolled": true
      },
      "outputs": [],
      "source": [
        "#With this pipeline, we can apply the model to the training data, and predict labels for the test data\n",
        "model.fit(train_data, train_target)\n",
        "labels = model.predict(test_data)"
      ]
    },
    {
      "cell_type": "code",
      "execution_count": null,
      "metadata": {
        "id": "lFHr0UIyfZpB",
        "outputId": "af49add1-fab4-4a0a-a5e1-fed12a4697f7",
        "colab": {
          "base_uri": "https://localhost:8080/",
          "height": 418
        }
      },
      "outputs": [
        {
          "output_type": "execute_result",
          "data": {
            "text/plain": [
              "<Figure size 4800x4800 with 0 Axes>"
            ]
          },
          "metadata": {},
          "execution_count": 36
        },
        {
          "output_type": "display_data",
          "data": {
            "text/plain": [
              "<Figure size 432x288 with 1 Axes>"
            ],
            "image/png": "[encoded data removed]"
          },
          "metadata": {}
        },
        {
          "output_type": "display_data",
          "data": {
            "text/plain": [
              "<Figure size 4800x4800 with 0 Axes>"
            ]
          },
          "metadata": {}
        }
      ],
      "source": [
        "#evaluate the performance of the estimator with confusion matrix between the true and predicted labels for the test data\n",
        "plt.rcParams['font.size'] = '26'\n",
        "mat = confusion_matrix(test_target, labels)\n",
        "sns.heatmap(mat.T, square=True, annot=True, fmt='d', cbar=False, xticklabels=keys, yticklabels=keys)\n",
        "\n",
        "plt.xlabel('true label')\n",
        "plt.ylabel('predicted label')\n",
        "\n",
        "from matplotlib.pyplot import figure\n",
        "figure(figsize=(6, 6), dpi=800)"
      ]
    },
    {
      "cell_type": "code",
      "execution_count": null,
      "metadata": {
        "id": "jCDGV1xefZpB",
        "outputId": "bac8373a-3df1-45a1-c24c-06ad4bf654ea",
        "colab": {
          "base_uri": "https://localhost:8080/"
        }
      },
      "outputs": [
        {
          "output_type": "stream",
          "name": "stdout",
          "text": [
            "Multinomial Naive Bayes Model Accuracy = 34.560176665439826 %\n"
          ]
        }
      ],
      "source": [
        "accuracy_for_test_keys = np.mean(labels == test_target)\n",
        "print(\"Multinomial Naive Bayes Model Accuracy = {} %\".format(accuracy_for_test_keys*100))"
      ]
    },
    {
      "cell_type": "code",
      "execution_count": null,
      "metadata": {
        "id": "q_9IWlDafZpC"
      },
      "outputs": [],
      "source": [
        "def predict_category(s, train=keys, model=model):\n",
        "    pred = model.predict([s])\n",
        "    return train[pred[0]]"
      ]
    },
    {
      "cell_type": "code",
      "execution_count": null,
      "metadata": {
        "id": "iPhc1qevfZpC"
      },
      "outputs": [],
      "source": [
        "df_test['Calculated_Clasification_ID'] = labels"
      ]
    },
    {
      "cell_type": "code",
      "execution_count": null,
      "metadata": {
        "id": "NYPE3gYGfZpC"
      },
      "outputs": [],
      "source": [
        "df_test['Calculated_Clasification'] = df_test.Calculated_Clasification_ID.map(lambda x: keys[x])"
      ]
    },
    {
      "cell_type": "code",
      "execution_count": null,
      "metadata": {
        "id": "AggqXeUcfZpC",
        "outputId": "39f6de13-aa51-4f01-c1af-3e44123be6d5",
        "colab": {
          "base_uri": "https://localhost:8080/",
          "height": 363
        }
      },
      "outputs": [
        {
          "output_type": "execute_result",
          "data": {
            "text/plain": [
              "      ID                                               Text  \\\n",
              "0   8001  The most common audits were about waste and re...   \n",
              "2   8002             The company fabricates plastic chairs.   \n",
              "4   8003  The school master teaches the lesson with a st...   \n",
              "6   8004  The suspect dumped the dead body into a local ...   \n",
              "8   8005  Avian influenza is an infectious disease of bi...   \n",
              "10  8006  The ear of the African elephant is significant...   \n",
              "12  8007  A child is told a lie for several years by the...   \n",
              "14  8008  Skype, a free software, allows a hookup of mul...   \n",
              "16  8009  The disgusting scene was retaliation against h...   \n",
              "18  8010  This thesis defines the clinical characteristi...   \n",
              "\n",
              "         Clasification  Clasification_ID  Calculated_Clasification_ID  \\\n",
              "0        Message-Topic                 9                            1   \n",
              "2     Product-Producer                 2                            0   \n",
              "4    Instrument-Agency                 4                            0   \n",
              "6   Entity-Destination                 7                            7   \n",
              "8         Cause-Effect                 1                            1   \n",
              "10     Component-Whole                 5                            0   \n",
              "12    Product-Producer                 2                            0   \n",
              "14   Member-Collection                 8                            0   \n",
              "16     Component-Whole                 5                            0   \n",
              "18       Message-Topic                 9                            0   \n",
              "\n",
              "   Calculated_Clasification  \n",
              "0              Cause-Effect  \n",
              "2                     Other  \n",
              "4                     Other  \n",
              "6        Entity-Destination  \n",
              "8              Cause-Effect  \n",
              "10                    Other  \n",
              "12                    Other  \n",
              "14                    Other  \n",
              "16                    Other  \n",
              "18                    Other  "
            ],
            "text/html": [
              "\n",
              "  <div id=\"df-1bf08198-8edd-49aa-97db-fe4caee0ae76\">\n",
              "    <div class=\"colab-df-container\">\n",
              "      <div>\n",
              "<style scoped>\n",
              "    .dataframe tbody tr th:only-of-type {\n",
              "        vertical-align: middle;\n",
              "    }\n",
              "\n",
              "    .dataframe tbody tr th {\n",
              "        vertical-align: top;\n",
              "    }\n",
              "\n",
              "    .dataframe thead th {\n",
              "        text-align: right;\n",
              "    }\n",
              "</style>\n",
              "<table border=\"1\" class=\"dataframe\">\n",
              "  <thead>\n",
              "    <tr style=\"text-align: right;\">\n",
              "      <th></th>\n",
              "      <th>ID</th>\n",
              "      <th>Text</th>\n",
              "      <th>Clasification</th>\n",
              "      <th>Clasification_ID</th>\n",
              "      <th>Calculated_Clasification_ID</th>\n",
              "      <th>Calculated_Clasification</th>\n",
              "    </tr>\n",
              "  </thead>\n",
              "  <tbody>\n",
              "    <tr>\n",
              "      <th>0</th>\n",
              "      <td>8001</td>\n",
              "      <td>The most common audits were about waste and re...</td>\n",
              "      <td>Message-Topic</td>\n",
              "      <td>9</td>\n",
              "      <td>1</td>\n",
              "      <td>Cause-Effect</td>\n",
              "    </tr>\n",
              "    <tr>\n",
              "      <th>2</th>\n",
              "      <td>8002</td>\n",
              "      <td>The company fabricates plastic chairs.</td>\n",
              "      <td>Product-Producer</td>\n",
              "      <td>2</td>\n",
              "      <td>0</td>\n",
              "      <td>Other</td>\n",
              "    </tr>\n",
              "    <tr>\n",
              "      <th>4</th>\n",
              "      <td>8003</td>\n",
              "      <td>The school master teaches the lesson with a st...</td>\n",
              "      <td>Instrument-Agency</td>\n",
              "      <td>4</td>\n",
              "      <td>0</td>\n",
              "      <td>Other</td>\n",
              "    </tr>\n",
              "    <tr>\n",
              "      <th>6</th>\n",
              "      <td>8004</td>\n",
              "      <td>The suspect dumped the dead body into a local ...</td>\n",
              "      <td>Entity-Destination</td>\n",
              "      <td>7</td>\n",
              "      <td>7</td>\n",
              "      <td>Entity-Destination</td>\n",
              "    </tr>\n",
              "    <tr>\n",
              "      <th>8</th>\n",
              "      <td>8005</td>\n",
              "      <td>Avian influenza is an infectious disease of bi...</td>\n",
              "      <td>Cause-Effect</td>\n",
              "      <td>1</td>\n",
              "      <td>1</td>\n",
              "      <td>Cause-Effect</td>\n",
              "    </tr>\n",
              "    <tr>\n",
              "      <th>10</th>\n",
              "      <td>8006</td>\n",
              "      <td>The ear of the African elephant is significant...</td>\n",
              "      <td>Component-Whole</td>\n",
              "      <td>5</td>\n",
              "      <td>0</td>\n",
              "      <td>Other</td>\n",
              "    </tr>\n",
              "    <tr>\n",
              "      <th>12</th>\n",
              "      <td>8007</td>\n",
              "      <td>A child is told a lie for several years by the...</td>\n",
              "      <td>Product-Producer</td>\n",
              "      <td>2</td>\n",
              "      <td>0</td>\n",
              "      <td>Other</td>\n",
              "    </tr>\n",
              "    <tr>\n",
              "      <th>14</th>\n",
              "      <td>8008</td>\n",
              "      <td>Skype, a free software, allows a hookup of mul...</td>\n",
              "      <td>Member-Collection</td>\n",
              "      <td>8</td>\n",
              "      <td>0</td>\n",
              "      <td>Other</td>\n",
              "    </tr>\n",
              "    <tr>\n",
              "      <th>16</th>\n",
              "      <td>8009</td>\n",
              "      <td>The disgusting scene was retaliation against h...</td>\n",
              "      <td>Component-Whole</td>\n",
              "      <td>5</td>\n",
              "      <td>0</td>\n",
              "      <td>Other</td>\n",
              "    </tr>\n",
              "    <tr>\n",
              "      <th>18</th>\n",
              "      <td>8010</td>\n",
              "      <td>This thesis defines the clinical characteristi...</td>\n",
              "      <td>Message-Topic</td>\n",
              "      <td>9</td>\n",
              "      <td>0</td>\n",
              "      <td>Other</td>\n",
              "    </tr>\n",
              "  </tbody>\n",
              "</table>\n",
              "</div>\n",
              "      <button class=\"colab-df-convert\" onclick=\"convertToInteractive('df-1bf08198-8edd-49aa-97db-fe4caee0ae76')\"\n",
              "              title=\"Convert this dataframe to an interactive table.\"\n",
              "              style=\"display:none;\">\n",
              "        \n",
              "  <svg xmlns=\"http://www.w3.org/2000/svg\" height=\"24px\"viewBox=\"0 0 24 24\"\n",
              "       width=\"24px\">\n",
              "    <path d=\"M0 0h24v24H0V0z\" fill=\"none\"/>\n",
              "    <path d=\"M18.56 5.44l.94 2.06.94-2.06 2.06-.94-2.06-.94-.94-2.06-.94 2.06-2.06.94zm-11 1L8.5 8.5l.94-2.06 2.06-.94-2.06-.94L8.5 2.5l-.94 2.06-2.06.94zm10 10l.94 2.06.94-2.06 2.06-.94-2.06-.94-.94-2.06-.94 2.06-2.06.94z\"/><path d=\"M17.41 7.96l-1.37-1.37c-.4-.4-.92-.59-1.43-.59-.52 0-1.04.2-1.43.59L10.3 9.45l-7.72 7.72c-.78.78-.78 2.05 0 2.83L4 21.41c.39.39.9.59 1.41.59.51 0 1.02-.2 1.41-.59l7.78-7.78 2.81-2.81c.8-.78.8-2.07 0-2.86zM5.41 20L4 18.59l7.72-7.72 1.47 1.35L5.41 20z\"/>\n",
              "  </svg>\n",
              "      </button>\n",
              "      \n",
              "  <style>\n",
              "    .colab-df-container {\n",
              "      display:flex;\n",
              "      flex-wrap:wrap;\n",
              "      gap: 12px;\n",
              "    }\n",
              "\n",
              "    .colab-df-convert {\n",
              "      background-color: #E8F0FE;\n",
              "      border: none;\n",
              "      border-radius: 50%;\n",
              "      cursor: pointer;\n",
              "      display: none;\n",
              "      fill: #1967D2;\n",
              "      height: 32px;\n",
              "      padding: 0 0 0 0;\n",
              "      width: 32px;\n",
              "    }\n",
              "\n",
              "    .colab-df-convert:hover {\n",
              "      background-color: #E2EBFA;\n",
              "      box-shadow: 0px 1px 2px rgba(60, 64, 67, 0.3), 0px 1px 3px 1px rgba(60, 64, 67, 0.15);\n",
              "      fill: #174EA6;\n",
              "    }\n",
              "\n",
              "    [theme=dark] .colab-df-convert {\n",
              "      background-color: #3B4455;\n",
              "      fill: #D2E3FC;\n",
              "    }\n",
              "\n",
              "    [theme=dark] .colab-df-convert:hover {\n",
              "      background-color: #434B5C;\n",
              "      box-shadow: 0px 1px 3px 1px rgba(0, 0, 0, 0.15);\n",
              "      filter: drop-shadow(0px 1px 2px rgba(0, 0, 0, 0.3));\n",
              "      fill: #FFFFFF;\n",
              "    }\n",
              "  </style>\n",
              "\n",
              "      <script>\n",
              "        const buttonEl =\n",
              "          document.querySelector('#df-1bf08198-8edd-49aa-97db-fe4caee0ae76 button.colab-df-convert');\n",
              "        buttonEl.style.display =\n",
              "          google.colab.kernel.accessAllowed ? 'block' : 'none';\n",
              "\n",
              "        async function convertToInteractive(key) {\n",
              "          const element = document.querySelector('#df-1bf08198-8edd-49aa-97db-fe4caee0ae76');\n",
              "          const dataTable =\n",
              "            await google.colab.kernel.invokeFunction('convertToInteractive',\n",
              "                                                     [key], {});\n",
              "          if (!dataTable) return;\n",
              "\n",
              "          const docLinkHtml = 'Like what you see? Visit the ' +\n",
              "            '<a target=\"_blank\" href=https://colab.research.google.com/notebooks/data_table.ipynb>data table notebook</a>'\n",
              "            + ' to learn more about interactive tables.';\n",
              "          element.innerHTML = '';\n",
              "          dataTable['output_type'] = 'display_data';\n",
              "          await google.colab.output.renderOutput(dataTable, element);\n",
              "          const docLink = document.createElement('div');\n",
              "          docLink.innerHTML = docLinkHtml;\n",
              "          element.appendChild(docLink);\n",
              "        }\n",
              "      </script>\n",
              "    </div>\n",
              "  </div>\n",
              "  "
            ]
          },
          "metadata": {},
          "execution_count": 41
        }
      ],
      "source": [
        "df_test.head(10)"
      ]
    },
    {
      "cell_type": "markdown",
      "metadata": {
        "id": "C2gYOBivfZpC"
      },
      "source": [
        "### Train model 2: Multinomial Naive Bayes (optimized parameters)"
      ]
    },
    {
      "cell_type": "code",
      "execution_count": null,
      "metadata": {
        "id": "LGiBx__5fZpD"
      },
      "outputs": [],
      "source": [
        "#https://holypython.com/nbc/naive-bayes-classifier-optimization-parameters/\n",
        "\n",
        "#https://www.geeksforgeeks.org/using-countvectorizer-to-extracting-features-from-text/\n",
        "#model1 = make_pipeline(CountVectorizer(ngram_range=(1,3)), TfidfVectorizer(), MultinomialNB())"
      ]
    },
    {
      "cell_type": "code",
      "execution_count": null,
      "metadata": {
        "id": "wpakMA9yfZpD"
      },
      "outputs": [],
      "source": [
        "from sklearn.feature_extraction.text import TfidfTransformer\n",
        "from sklearn.pipeline import Pipeline\n",
        "from sklearn.feature_extraction.text import CountVectorizer\n"
      ]
    },
    {
      "cell_type": "code",
      "execution_count": null,
      "metadata": {
        "id": "rs3nqOYzfZpD",
        "outputId": "880e634b-cbd0-466e-9399-fbde6721c7e4",
        "colab": {
          "base_uri": "https://localhost:8080/"
        }
      },
      "outputs": [
        {
          "output_type": "stream",
          "name": "stdout",
          "text": [
            "Multinomial Naive Bayes Model Accuracy = 60.50791313949209 %\n"
          ]
        }
      ],
      "source": [
        "#Tokenizing text with scikit-learn we used CountVectorizer\n",
        "count_vector = CountVectorizer()\n",
        "train_counts = count_vector.fit_transform(train_data)\n",
        "\n",
        "# Term Frequencies are calculated which has to be use_idf=True \n",
        "tf_transformer = TfidfTransformer(use_idf=True).fit(train_counts)\n",
        "tf_train = tf_transformer.transform(train_counts)\n",
        "\n",
        "#Term Frequency times Inverse Document Frequency to skipping redundant processing\n",
        "tf_idf_transformer = TfidfTransformer()\n",
        "tf_idf_train = tf_idf_transformer.fit_transform(train_counts)\n",
        "\n",
        "#Training a classifier \n",
        "# Now we took Naive Bayes classifier which provides a nice baseline for this task\n",
        "# We used the Multinomial Naive Bayes\n",
        "#print (tf_idf_train)\n",
        "#print (train_target)\n",
        "multi_nb = MultinomialNB().fit(tf_idf_train, train_target)\n",
        "\n",
        "# Combing the all CountVectorizer,TfidfTransformer,MultinomialNB with alpha value 0.01\n",
        "#ngram_range The lower and upper boundary of the range of n-values is 1 and 3\n",
        "text_classification = Pipeline([('vectorizer', CountVectorizer(ngram_range=(1,3))),\n",
        "    ('tfidftransformer', TfidfTransformer(use_idf=True)),\n",
        "    ('classification', MultinomialNB(alpha=0.01)),])\n",
        "text_classification = text_classification.fit(train_data, train_target)\n",
        "predicted = text_classification.predict(test_data)\n",
        "\n",
        "# Naive Bayes predicted values is saving to csv file\n",
        "np.savetxt(\"naive_bayes_predicted.csv\", predicted, delimiter=\",\")\n",
        "\n",
        "accuracy_for_test_keys = np.mean(predicted == test_target)\n",
        "print(\"Multinomial Naive Bayes Model Accuracy = {} %\".format(accuracy_for_test_keys*100))"
      ]
    },
    {
      "cell_type": "code",
      "source": [
        "plt.rcParams['font.size'] = '12'\n",
        "mat = confusion_matrix(test_target, predicted)\n",
        "sns.heatmap(mat.T, square=True, annot=True, fmt='d', cbar=False, xticklabels=keys, yticklabels=keys)\n",
        "\n",
        "plt.xlabel('true label')\n",
        "plt.ylabel('predicted label')\n",
        "\n",
        "from matplotlib.pyplot import figure\n",
        "figure(figsize=(10, 10), dpi=800)"
      ],
      "metadata": {
        "colab": {
          "base_uri": "https://localhost:8080/",
          "height": 415
        },
        "id": "H6eDbiGzy5nb",
        "outputId": "073c9b5e-fe91-469e-a0b2-9d436fc97ca2"
      },
      "execution_count": null,
      "outputs": [
        {
          "output_type": "execute_result",
          "data": {
            "text/plain": [
              "<Figure size 8000x8000 with 0 Axes>"
            ]
          },
          "metadata": {},
          "execution_count": 45
        },
        {
          "output_type": "display_data",
          "data": {
            "text/plain": [
              "<Figure size 432x288 with 1 Axes>"
            ],
            "image/png": "[encoded data removed]"
          },
          "metadata": {}
        },
        {
          "output_type": "display_data",
          "data": {
            "text/plain": [
              "<Figure size 8000x8000 with 0 Axes>"
            ]
          },
          "metadata": {}
        }
      ]
    },
    {
      "cell_type": "markdown",
      "source": [
        "**Support Vector Model**\n",
        "\n",
        "The core idea of SVM is to find a maximum marginal hyperplane(MMH) that best divides the dataset into classes.\n",
        "\n",
        "<img src=\"http://res.cloudinary.com/dyd911kmh/image/upload/f_auto,q_auto:best/v1526288453/index3_souoaz.png\" width=300px>\n",
        "\n",
        "[Reference 1](https://www.datacamp.com/tutorial/svm-classification-scikit-learn-python)\n",
        "\n",
        "Some problems can’t be solved using linear hyperplane. In such situation, SVM uses a kernel trick to transform the input space to a higher dimensional space. Eg. RBF kernel (left picture) creates non-linear combinations of your features where you can use a linear decision boundary to separate your classes. Some other kernls can be found in the right picture.\n",
        "\n",
        "<img src=\"https://sebastianraschka.com/images/faq/select_svm_kernels/5.png\" width=300px> \n",
        "<img src=\"https://miro.medium.com/max/1400/1*qZFPN60NvwbFE_tRg2YPoQ.png\" width=300px>\n",
        "\n",
        "[Reference 2](https://sebastianraschka.com/faq/docs/select_svm_kernels.html)\n",
        "\n",
        "\n",
        "\n",
        "\n",
        "\n",
        "\n"
      ],
      "metadata": {
        "id": "bBp0wGvZ7Jvh"
      }
    },
    {
      "cell_type": "markdown",
      "source": [
        "**Choosing Kernels**\n",
        "\n",
        "We can use gridsearch to cycle through several kernels to evaluate which will be most accurate for our data. \n",
        "[Reference 1](https://www.youtube.com/watch?v=b4qQzVPWkZQ)\n",
        "\n",
        "As we are dealing with text classification, which is quite widely studied and can be linearly separated, and the linear kernel is mostly preferred for text-classification problems.\n",
        "\n",
        "[Reference 2](https://dataaspirant.com/svm-kernels/#t-1608054630727)"
      ],
      "metadata": {
        "id": "cf813BxZ_ZNX"
      }
    },
    {
      "cell_type": "markdown",
      "source": [
        "**GridsearchCV**\n",
        "\n",
        "shift+Tab to see which parameters we can input. It is recommended to give 4-5 sets of parameters to gridsearch to tune parameters\n",
        "Can be applied to any machine learning model. All the parameters are given in dictionary pairs.\n",
        "\n",
        "[Reference 1](https:///www.youtube.com/watch?v=CgmvAMiVKFE)"
      ],
      "metadata": {
        "id": "_Zt9G1ScCTWq"
      }
    },
    {
      "cell_type": "markdown",
      "metadata": {
        "id": "pmoCLcSeLP9f"
      },
      "source": [
        "### Train model 3: Support Vector Machine BASIC"
      ]
    },
    {
      "cell_type": "code",
      "execution_count": null,
      "metadata": {
        "id": "BLsw1Hk1LP90"
      },
      "outputs": [],
      "source": [
        "from sklearn.pipeline import Pipeline\n",
        "from sklearn.feature_extraction.text import TfidfVectorizer\n",
        "from sklearn.linear_model import SGDClassifier\n",
        "from sklearn.svm import SVC, LinearSVC, NuSVC\n",
        "#Reference: https://gist.github.com/dspp779/5a9597e2d8a2518b80fb0ad191ea8463"
      ]
    },
    {
      "cell_type": "code",
      "source": [
        "#Build a vectorizer / classifier pipeline that filters out tokens that are too rare or too frequent\n",
        "text_clf = Pipeline([('vect', TfidfVectorizer()),\n",
        "                     ('clf', SVC()),\n",
        "])"
      ],
      "metadata": {
        "id": "moFvp_GDLP90"
      },
      "execution_count": null,
      "outputs": []
    },
    {
      "cell_type": "code",
      "source": [
        "text_clf.fit(train_data, train_target)"
      ],
      "metadata": {
        "colab": {
          "base_uri": "https://localhost:8080/"
        },
        "outputId": "092192ee-0789-451c-908e-18dc51da0f4d",
        "id": "tw4uNivQLP90"
      },
      "execution_count": null,
      "outputs": [
        {
          "output_type": "execute_result",
          "data": {
            "text/plain": [
              "Pipeline(steps=[('vect', TfidfVectorizer()), ('clf', SVC())])"
            ]
          },
          "metadata": {},
          "execution_count": 71
        }
      ]
    },
    {
      "cell_type": "code",
      "source": [
        "y_predicted = text_clf.predict(test_data)"
      ],
      "metadata": {
        "id": "1KnnR3M0LP91"
      },
      "execution_count": null,
      "outputs": []
    },
    {
      "cell_type": "code",
      "source": [
        "accuracy_for_test_keys = np.mean(y_predicted == test_target)\n",
        "print(\"SVM Model Accuracy = {} %\".format(accuracy_for_test_keys*100))"
      ],
      "metadata": {
        "colab": {
          "base_uri": "https://localhost:8080/"
        },
        "outputId": "724b667a-fa66-4244-a49d-84e59741896f",
        "id": "jyjlu8KaLP91"
      },
      "execution_count": null,
      "outputs": [
        {
          "output_type": "stream",
          "name": "stdout",
          "text": [
            "SVM Model Accuracy = 52.741994847258 %\n"
          ]
        }
      ]
    },
    {
      "cell_type": "code",
      "source": [
        "from sklearn import metrics\n",
        "print(metrics.classification_report(test_target, y_predicted, target_names=keys))\n",
        "#Precision is the fraction of positive class predictions that actually belong to the positive class. \n",
        "#Recall is the fraction of positive class predictions made out of all positive examples in the dataset. \n",
        "#F1-score combines the precision and recall of a classifier into a single metric by taking their harmonic mean. \n",
        "#Higher F1 scores are generally better."
      ],
      "metadata": {
        "colab": {
          "base_uri": "https://localhost:8080/"
        },
        "outputId": "333c8ae7-4da4-4efd-e63f-683d60d6e35a",
        "id": "5-A-I2xoLP91"
      },
      "execution_count": null,
      "outputs": [
        {
          "output_type": "stream",
          "name": "stdout",
          "text": [
            "                    precision    recall  f1-score   support\n",
            "\n",
            "             Other       0.24      0.59      0.34       454\n",
            "      Cause-Effect       0.92      0.75      0.83       328\n",
            "  Product-Producer       0.64      0.23      0.34       231\n",
            "     Entity-Origin       0.62      0.57      0.59       258\n",
            " Instrument-Agency       0.79      0.12      0.21       156\n",
            "   Component-Whole       0.61      0.52      0.56       312\n",
            " Content-Container       0.77      0.69      0.73       192\n",
            "Entity-Destination       0.75      0.77      0.76       292\n",
            " Member-Collection       0.58      0.44      0.50       233\n",
            "     Message-Topic       0.83      0.31      0.45       261\n",
            "\n",
            "          accuracy                           0.53      2717\n",
            "         macro avg       0.68      0.50      0.53      2717\n",
            "      weighted avg       0.65      0.53      0.54      2717\n",
            "\n"
          ]
        }
      ]
    },
    {
      "cell_type": "code",
      "source": [
        "#evaluate the performance of the estimator with confusion matrix between the true and predicted labels for the test data\n",
        "plt.rcParams['font.size'] = '12'\n",
        "mat = confusion_matrix(test_target, y_predicted)\n",
        "sns.heatmap(mat.T, square=True, annot=True, fmt='d', cbar=False, xticklabels=keys, yticklabels=keys)\n",
        "\n",
        "plt.xlabel('true label')\n",
        "plt.ylabel('predicted label')\n",
        "\n",
        "from matplotlib.pyplot import figure\n",
        "figure(figsize=(9, 9), dpi=800)"
      ],
      "metadata": {
        "colab": {
          "base_uri": "https://localhost:8080/",
          "height": 415
        },
        "outputId": "b1024dab-9d9e-41aa-a0d2-f88bfd11b9c8",
        "id": "qPZqih2MLP91"
      },
      "execution_count": null,
      "outputs": [
        {
          "output_type": "execute_result",
          "data": {
            "text/plain": [
              "<Figure size 7200x7200 with 0 Axes>"
            ]
          },
          "metadata": {},
          "execution_count": 75
        },
        {
          "output_type": "display_data",
          "data": {
            "text/plain": [
              "<Figure size 432x288 with 1 Axes>"
            ],
            "image/png": "[encoded data removed]"
          },
          "metadata": {}
        },
        {
          "output_type": "display_data",
          "data": {
            "text/plain": [
              "<Figure size 7200x7200 with 0 Axes>"
            ]
          },
          "metadata": {}
        }
      ]
    },
    {
      "cell_type": "markdown",
      "metadata": {
        "id": "Zg_Kqaendhqc"
      },
      "source": [
        "### Train model 4: Support Vector Machine Linear Kernel"
      ]
    },
    {
      "cell_type": "code",
      "execution_count": null,
      "metadata": {
        "id": "Kvvxv0Nldhqi"
      },
      "outputs": [],
      "source": [
        "from sklearn.pipeline import Pipeline\n",
        "from sklearn.feature_extraction.text import TfidfVectorizer\n",
        "from sklearn.linear_model import SGDClassifier\n",
        "from sklearn.svm import SVC, LinearSVC, NuSVC\n",
        "#Reference: https://gist.github.com/dspp779/5a9597e2d8a2518b80fb0ad191ea8463"
      ]
    },
    {
      "cell_type": "code",
      "source": [
        "#Build a vectorizer / classifier pipeline that filters out tokens that are too rare or too frequent\n",
        "text_clf = Pipeline([('vect', TfidfVectorizer()),\n",
        "                     ('clf', LinearSVC()),\n",
        "])"
      ],
      "metadata": {
        "id": "g66MjiaqPwl_"
      },
      "execution_count": null,
      "outputs": []
    },
    {
      "cell_type": "code",
      "source": [
        "text_clf.fit(train_data, train_target)"
      ],
      "metadata": {
        "colab": {
          "base_uri": "https://localhost:8080/"
        },
        "id": "D136F0JfitLW",
        "outputId": "41555fe3-00cf-46ab-92ce-1103c0b70130"
      },
      "execution_count": null,
      "outputs": [
        {
          "output_type": "execute_result",
          "data": {
            "text/plain": [
              "Pipeline(steps=[('vect', TfidfVectorizer()), ('clf', LinearSVC())])"
            ]
          },
          "metadata": {},
          "execution_count": 78
        }
      ]
    },
    {
      "cell_type": "code",
      "source": [
        "y_predicted = text_clf.predict(test_data)"
      ],
      "metadata": {
        "id": "TseUzU9NixmT"
      },
      "execution_count": null,
      "outputs": []
    },
    {
      "cell_type": "code",
      "source": [
        "accuracy_for_test_keys = np.mean(y_predicted == test_target)\n",
        "print(\"SVM Model Accuracy = {} %\".format(accuracy_for_test_keys*100))"
      ],
      "metadata": {
        "colab": {
          "base_uri": "https://localhost:8080/"
        },
        "id": "x45qMiEdi5Kt",
        "outputId": "93e3524b-86ea-4d47-ce5f-9b50f082b397"
      },
      "execution_count": null,
      "outputs": [
        {
          "output_type": "stream",
          "name": "stdout",
          "text": [
            "SVM Model Accuracy = 60.65513433934486 %\n"
          ]
        }
      ]
    },
    {
      "cell_type": "code",
      "source": [
        "from sklearn import metrics\n",
        "print(metrics.classification_report(test_target, y_predicted, target_names=keys))\n",
        "#Precision is the fraction of positive class predictions that actually belong to the positive class. \n",
        "#Recall is the fraction of positive class predictions made out of all positive examples in the dataset. \n",
        "#F1-score combines the precision and recall of a classifier into a single metric by taking their harmonic mean. \n",
        "#Higher F1 scores are generally better."
      ],
      "metadata": {
        "colab": {
          "base_uri": "https://localhost:8080/"
        },
        "id": "XytfAEnOftT0",
        "outputId": "4fa68247-c527-4814-afa7-958f0e6c6edf"
      },
      "execution_count": null,
      "outputs": [
        {
          "output_type": "stream",
          "name": "stdout",
          "text": [
            "                    precision    recall  f1-score   support\n",
            "\n",
            "             Other       0.30      0.27      0.29       454\n",
            "      Cause-Effect       0.80      0.85      0.82       328\n",
            "  Product-Producer       0.54      0.50      0.52       231\n",
            "     Entity-Origin       0.71      0.62      0.66       258\n",
            " Instrument-Agency       0.56      0.45      0.50       156\n",
            "   Component-Whole       0.59      0.61      0.60       312\n",
            " Content-Container       0.72      0.80      0.76       192\n",
            "Entity-Destination       0.71      0.85      0.77       292\n",
            " Member-Collection       0.58      0.61      0.59       233\n",
            "     Message-Topic       0.65      0.64      0.64       261\n",
            "\n",
            "          accuracy                           0.61      2717\n",
            "         macro avg       0.61      0.62      0.62      2717\n",
            "      weighted avg       0.60      0.61      0.60      2717\n",
            "\n"
          ]
        }
      ]
    },
    {
      "cell_type": "code",
      "source": [
        "#evaluate the performance of the estimator with confusion matrix between the true and predicted labels for the test data\n",
        "plt.rcParams['font.size'] = '12'\n",
        "mat = confusion_matrix(test_target, y_predicted)\n",
        "sns.heatmap(mat.T, square=True, annot=True, fmt='d', cbar=False, xticklabels=keys, yticklabels=keys)\n",
        "\n",
        "plt.xlabel('true label')\n",
        "plt.ylabel('predicted label')\n",
        "\n",
        "from matplotlib.pyplot import figure\n",
        "figure(figsize=(9, 9), dpi=800)"
      ],
      "metadata": {
        "colab": {
          "base_uri": "https://localhost:8080/",
          "height": 415
        },
        "id": "7VZC1pKReRNq",
        "outputId": "53d09dbe-d4d3-4574-f9e2-6855d48497d2"
      },
      "execution_count": null,
      "outputs": [
        {
          "output_type": "execute_result",
          "data": {
            "text/plain": [
              "<Figure size 7200x7200 with 0 Axes>"
            ]
          },
          "metadata": {},
          "execution_count": 82
        },
        {
          "output_type": "display_data",
          "data": {
            "text/plain": [
              "<Figure size 432x288 with 1 Axes>"
            ],
            "image/png": "[encoded data removed]"
          },
          "metadata": {}
        },
        {
          "output_type": "display_data",
          "data": {
            "text/plain": [
              "<Figure size 7200x7200 with 0 Axes>"
            ]
          },
          "metadata": {}
        }
      ]
    },
    {
      "cell_type": "markdown",
      "metadata": {
        "id": "E4amNMuuiV_l"
      },
      "source": [
        "### Train model 5: Support Vector Machine Linear Kernel with Gridsearch (2/3-gram)"
      ]
    },
    {
      "cell_type": "code",
      "execution_count": null,
      "metadata": {
        "id": "LRn219r6iV_6"
      },
      "outputs": [],
      "source": [
        "from sklearn.pipeline import Pipeline\n",
        "from sklearn.feature_extraction.text import TfidfVectorizer\n",
        "from sklearn.svm import SVC, LinearSVC, NuSVC\n",
        "from sklearn.model_selection import GridSearchCV\n",
        "#Reference: https://gist.github.com/dspp779/5a9597e2d8a2518b80fb0ad191ea8463"
      ]
    },
    {
      "cell_type": "code",
      "source": [
        "#Build a vectorizer / classifier pipeline that filters out tokens that are too rare or too frequent\n",
        "pipeline = Pipeline([\n",
        "    ('vect', TfidfVectorizer()),\n",
        "    ('clf', LinearSVC()),\n",
        "])"
      ],
      "metadata": {
        "id": "MSjP9tnFiV_6"
      },
      "execution_count": null,
      "outputs": []
    },
    {
      "cell_type": "code",
      "source": [
        "#Build a grid search to find out whether 2-grams or 3-grams are more useful. \n",
        "#Fit the pipeline on the training set using grid search for the parameters\n",
        "parameters = {\n",
        "    'vect__ngram_range': [(1, 2), (1, 3)],\n",
        "}\n",
        "grid_search = GridSearchCV(pipeline, parameters, n_jobs=-1)\n",
        "grid_search.fit(train_data, train_target)"
      ],
      "metadata": {
        "colab": {
          "base_uri": "https://localhost:8080/"
        },
        "outputId": "27ea230a-56c2-4ede-d49a-282e9c9eef31",
        "id": "qgthEfHdiV_6"
      },
      "execution_count": null,
      "outputs": [
        {
          "output_type": "execute_result",
          "data": {
            "text/plain": [
              "GridSearchCV(estimator=Pipeline(steps=[('vect', TfidfVectorizer()),\n",
              "                                       ('clf', LinearSVC())]),\n",
              "             n_jobs=-1, param_grid={'vect__ngram_range': [(1, 2), (1, 3)]})"
            ]
          },
          "metadata": {},
          "execution_count": 62
        }
      ]
    },
    {
      "cell_type": "code",
      "source": [
        "#Print the mean and std for each candidate along with the parameter settings for all the candidates explored by grid search.\n",
        "n_candidates = len(grid_search.cv_results_['params'])\n",
        "for i in range(n_candidates):\n",
        "    print(i, 'params - %s; mean - %0.2f; std - %0.2f'\n",
        "             % (grid_search.cv_results_['params'][i],\n",
        "                grid_search.cv_results_['mean_test_score'][i],\n",
        "                grid_search.cv_results_['std_test_score'][i]))"
      ],
      "metadata": {
        "colab": {
          "base_uri": "https://localhost:8080/"
        },
        "outputId": "ef82563e-eff5-418f-fbd8-666f788bd05e",
        "id": "ZYJBDumGiV_7"
      },
      "execution_count": null,
      "outputs": [
        {
          "output_type": "stream",
          "name": "stdout",
          "text": [
            "0 params - {'vect__ngram_range': (1, 2)}; mean - 0.62; std - 0.04\n",
            "1 params - {'vect__ngram_range': (1, 3)}; mean - 0.61; std - 0.05\n"
          ]
        }
      ]
    },
    {
      "cell_type": "code",
      "source": [
        "#Predict the outcome on the testing set and store it in a variable named y_predicted\n",
        "y_predicted = grid_search.predict(test_data)"
      ],
      "metadata": {
        "id": "Af0KnCfYiV_7"
      },
      "execution_count": null,
      "outputs": []
    },
    {
      "cell_type": "code",
      "source": [
        "accuracy_for_test_keys = np.mean(y_predicted == test_target)\n",
        "print(\"SVM Model Accuracy = {} %\".format(accuracy_for_test_keys*100))"
      ],
      "metadata": {
        "colab": {
          "base_uri": "https://localhost:8080/"
        },
        "outputId": "f6dfe184-d3e2-4ce5-cc5a-0b5fbc7ab324",
        "id": "vcj5lHp4iV_8"
      },
      "execution_count": null,
      "outputs": [
        {
          "output_type": "stream",
          "name": "stdout",
          "text": [
            "SVM Model Accuracy = 64.55649613544351 %\n"
          ]
        }
      ]
    },
    {
      "cell_type": "code",
      "source": [
        "from sklearn import metrics\n",
        "print(metrics.classification_report(test_target, y_predicted, target_names=keys))\n",
        "#Precision is the fraction of positive class predictions that actually belong to the positive class. \n",
        "#Recall is the fraction of positive class predictions made out of all positive examples in the dataset. \n",
        "#F1-score combines the precision and recall of a classifier into a single metric by taking their harmonic mean. \n",
        "#Higher F1 scores are generally better."
      ],
      "metadata": {
        "colab": {
          "base_uri": "https://localhost:8080/"
        },
        "outputId": "b60e2ead-4659-4fcb-ef4f-33bdc1b82e4f",
        "id": "f-VSGRrYiV_8"
      },
      "execution_count": null,
      "outputs": [
        {
          "output_type": "stream",
          "name": "stdout",
          "text": [
            "                    precision    recall  f1-score   support\n",
            "\n",
            "             Other       0.36      0.25      0.29       454\n",
            "      Cause-Effect       0.85      0.86      0.86       328\n",
            "  Product-Producer       0.57      0.55      0.56       231\n",
            "     Entity-Origin       0.69      0.77      0.72       258\n",
            " Instrument-Agency       0.64      0.47      0.54       156\n",
            "   Component-Whole       0.59      0.67      0.63       312\n",
            " Content-Container       0.75      0.81      0.78       192\n",
            "Entity-Destination       0.71      0.89      0.79       292\n",
            " Member-Collection       0.58      0.70      0.63       233\n",
            "     Message-Topic       0.73      0.66      0.69       261\n",
            "\n",
            "          accuracy                           0.65      2717\n",
            "         macro avg       0.65      0.66      0.65      2717\n",
            "      weighted avg       0.63      0.65      0.63      2717\n",
            "\n"
          ]
        }
      ]
    },
    {
      "cell_type": "code",
      "source": [
        "#evaluate the performance of the estimator with confusion matrix between the true and predicted labels for the test data\n",
        "plt.rcParams['font.size'] = '12'\n",
        "mat = confusion_matrix(test_target, y_predicted)\n",
        "sns.heatmap(mat.T, square=True, annot=True, fmt='d', cbar=False, xticklabels=keys, yticklabels=keys)\n",
        "\n",
        "plt.xlabel('true label')\n",
        "plt.ylabel('predicted label')\n",
        "\n",
        "from matplotlib.pyplot import figure\n",
        "figure(figsize=(9, 9), dpi=800)"
      ],
      "metadata": {
        "colab": {
          "base_uri": "https://localhost:8080/",
          "height": 415
        },
        "outputId": "a57dc46d-d715-47b0-e05e-4469c6588d4a",
        "id": "8CRVEW3tiV_8"
      },
      "execution_count": null,
      "outputs": [
        {
          "output_type": "execute_result",
          "data": {
            "text/plain": [
              "<Figure size 7200x7200 with 0 Axes>"
            ]
          },
          "metadata": {},
          "execution_count": 67
        },
        {
          "output_type": "display_data",
          "data": {
            "text/plain": [
              "<Figure size 432x288 with 1 Axes>"
            ],
            "image/png": "[encoded data removed]"
          },
          "metadata": {}
        },
        {
          "output_type": "display_data",
          "data": {
            "text/plain": [
              "<Figure size 7200x7200 with 0 Axes>"
            ]
          },
          "metadata": {}
        }
      ]
    }
  ],
  "metadata": {
    "colab": {
      "name": "Sem-Eval 2010 Task8.ipynb",
      "provenance": [],
      "include_colab_link": true
    },
    "kernelspec": {
      "display_name": "Python 3.10.6 64-bit (windows store)",
      "language": "python",
      "name": "python3"
    },
    "language_info": {
      "codemirror_mode": {
        "name": "ipython",
        "version": 3
      },
      "file_extension": ".py",
      "mimetype": "text/x-python",
      "name": "python",
      "nbconvert_exporter": "python",
      "pygments_lexer": "ipython3",
      "version": "3.10.6"
    },
    "vscode": {
      "interpreter": {
        "hash": "6d37efe8b5696e020ff20f03281d74432cd5b58f0d8f4efefd34ea302a90c8b3"
      }
    }
  },
  "nbformat": 4,
  "nbformat_minor": 0
}